{
 "cells": [
  {
   "cell_type": "code",
   "execution_count": 1,
   "metadata": {},
   "outputs": [],
   "source": [
    "%load_ext autoreload\n",
    "%autoreload 2"
   ]
  },
  {
   "cell_type": "code",
   "execution_count": 2,
   "metadata": {},
   "outputs": [],
   "source": [
    "import os\n",
    "import sys\n",
    "import matplotlib.pyplot as plt\n",
    "\n",
    "module_path = os.path.abspath(os.path.join('..\\..'))\n",
    "if module_path not in sys.path:\n",
    "    sys.path.insert(0, module_path)"
   ]
  },
  {
   "cell_type": "code",
   "execution_count": 3,
   "metadata": {},
   "outputs": [],
   "source": [
    "from funcs import *"
   ]
  },
  {
   "cell_type": "code",
   "execution_count": 4,
   "metadata": {},
   "outputs": [],
   "source": [
    "diseases = ('C0003873', \n",
    "            'C0019193',\n",
    "            'C0033578',\n",
    "            'C0919267',\n",
    "            'C0917816')"
   ]
  },
  {
   "cell_type": "markdown",
   "metadata": {},
   "source": [
    "## Read Data + Save"
   ]
  },
  {
   "cell_type": "code",
   "execution_count": 5,
   "metadata": {},
   "outputs": [
    {
     "name": "stdout",
     "output_type": "stream",
     "text": [
      "Nodes:  19618\n",
      "Edges:  665061\n"
     ]
    }
   ],
   "source": [
    "human_data(file='data/BIOGRID-ORGANISM-Homo_sapiens-4.4.204.tab3.txt',\n",
    "           save_file='data/processed/homo_preprocess.tsv', correct=False)"
   ]
  },
  {
   "cell_type": "code",
   "execution_count": 6,
   "metadata": {},
   "outputs": [
    {
     "name": "stdout",
     "output_type": "stream",
     "text": [
      "Saving file for C0003873\n",
      "===================\n",
      "Saving file for C0019193\n",
      "===================\n",
      "Saving file for C0033578\n",
      "===================\n",
      "Saving file for C0919267\n",
      "===================\n",
      "Saving file for C0917816\n",
      "===================\n"
     ]
    }
   ],
   "source": [
    "for disease in diseases:\n",
    "    print(f'Saving file for {disease}')\n",
    "    disease_data(file='data/curated_gene_disease_associations.tsv',\n",
    "                 disease_id=disease)\n",
    "    print('===================')"
   ]
  },
  {
   "cell_type": "code",
   "execution_count": 7,
   "metadata": {},
   "outputs": [],
   "source": [
    "generate_PPI(in_file='data/processed/homo_preprocess.tsv', out_file='data/processed/PPI.txt')"
   ]
  },
  {
   "cell_type": "markdown",
   "metadata": {},
   "source": [
    "## Data Overview"
   ]
  },
  {
   "cell_type": "code",
   "execution_count": 8,
   "metadata": {},
   "outputs": [
    {
     "name": "stdout",
     "output_type": "stream",
     "text": [
      "C0003873\n",
      "Number of genes associated with the disease: 174\n",
      "Classes of the disease: ['C17;C05;C20']\n",
      "Number of genes present in the interactome: 173\n",
      "Largest connected component: 83\n",
      "Number of genes in the interactome: 19618\n",
      "Missing gene: {6556}\n",
      "===================\n",
      "C0019193\n",
      "Number of genes associated with the disease: 404\n",
      "Classes of the disease: ['C06;C25']\n",
      "Number of genes present in the interactome: 321\n",
      "Largest connected component: 230\n",
      "Number of genes in the interactome: 19618\n",
      "Missing gene: {407055, 442901, 442904, 442905, 442906, 442909, 442910, 442912, 619552, 619556, 574501, 574506, 574508, 100616247, 724030, 100616258, 100616259, 574030, 100126313, 100126334, 100616357, 100616376, 102466247, 3274, 100422867, 768218, 102466270, 100313838, 494323, 100616437, 494335, 102465802, 100302115, 102465833, 100302142, 100302145, 102465858, 723779, 100302149, 100422991, 100302174, 100500847, 100302197, 406902, 693120, 693122, 693124, 406919, 406920, 100302218, 100302221, 406940, 406941, 406942, 100302236, 100302240, 693159, 406957, 406966, 406967, 406968, 693177, 406969, 100616127, 100302276, 100616135, 574412, 100302284, 100847054, 406992, 102465489, 407000, 693210, 693212, 100847070, 693214, 574434, 407010, 102465513, 407027, 574455, 574456, 407037}\n",
      "===================\n",
      "C0033578\n",
      "Number of genes associated with the disease: 616\n",
      "Classes of the disease: ['C04;C12']\n",
      "Number of genes present in the interactome: 613\n",
      "Largest connected component: 550\n",
      "Number of genes in the interactome: 19618\n",
      "Missing gene: {101669767, 1585, 11095}\n",
      "===================\n",
      "C0919267\n",
      "Number of genes associated with the disease: 134\n",
      "Classes of the disease: ['C04;C13;C19']\n",
      "Number of genes present in the interactome: 133\n",
      "Largest connected component: 111\n",
      "Number of genes in the interactome: 19618\n",
      "Missing gene: {387775}\n",
      "===================\n",
      "C0917816\n",
      "Number of genes associated with the disease: 139\n",
      "Classes of the disease: ['C23;C10;F03;F01']\n",
      "Number of genes present in the interactome: 139\n",
      "Largest connected component: 54\n",
      "Number of genes in the interactome: 19618\n",
      "Missing gene: set()\n",
      "===================\n"
     ]
    }
   ],
   "source": [
    "for disease in diseases:\n",
    "    print(disease)\n",
    "    data_overview(human_file='data/processed/homo_preprocess.tsv',\n",
    "                  disease_file=f'data/{disease}/disease{disease}.tsv')\n",
    "    print('===================')"
   ]
  },
  {
   "cell_type": "code",
   "execution_count": 28,
   "metadata": {},
   "outputs": [],
   "source": [
    "split_files_diffusion_heat(seeds='data/seed.txt', disease=disease, k=10)"
   ]
  },
  {
   "cell_type": "markdown",
   "metadata": {},
   "source": [
    "## Make sure the interactome follows the ground truth:\n",
    "Nodes = 19618\n",
    "\n",
    "Edges = 665061"
   ]
  },
  {
   "cell_type": "code",
   "execution_count": 9,
   "metadata": {},
   "outputs": [],
   "source": [
    "interactome_df = pd.read_csv('data/processed/homo_preprocess.tsv', sep='\\t')\n",
    "interactome_g = nx.from_pandas_edgelist(interactome_df, source='A',\n",
    "                                        target='B')"
   ]
  },
  {
   "cell_type": "code",
   "execution_count": 10,
   "metadata": {},
   "outputs": [
    {
     "data": {
      "text/plain": [
       "19618"
      ]
     },
     "execution_count": 10,
     "metadata": {},
     "output_type": "execute_result"
    }
   ],
   "source": [
    "interactome_g.number_of_nodes()"
   ]
  },
  {
   "cell_type": "code",
   "execution_count": 11,
   "metadata": {},
   "outputs": [
    {
     "data": {
      "text/plain": [
       "665061"
      ]
     },
     "execution_count": 11,
     "metadata": {},
     "output_type": "execute_result"
    }
   ],
   "source": [
    "interactome_g.number_of_edges()"
   ]
  },
  {
   "cell_type": "markdown",
   "metadata": {},
   "source": [
    "## Algorithms"
   ]
  },
  {
   "cell_type": "code",
   "execution_count": 12,
   "metadata": {},
   "outputs": [],
   "source": [
    "for disease in diseases:\n",
    "    if not os.path.exists(f'data/results/{disease}'):\n",
    "        os.mkdir(f'data/results/{disease}')"
   ]
  },
  {
   "cell_type": "code",
   "execution_count": null,
   "metadata": {},
   "outputs": [],
   "source": [
    "MCL_hyper('data/homo_preprocess.tsv', start=18, end=23)"
   ]
  },
  {
   "cell_type": "code",
   "execution_count": 13,
   "metadata": {},
   "outputs": [],
   "source": [
    "n_iter_diamond_diable = {'C0003873':180, \n",
    "                         'C0019193':330,\n",
    "                         'C0033578':620,\n",
    "                         'C0919267':140,\n",
    "                         'C0917816':140}"
   ]
  },
  {
   "cell_type": "code",
   "execution_count": 14,
   "metadata": {},
   "outputs": [
    {
     "name": "stdout",
     "output_type": "stream",
     "text": [
      "C0003873\n",
      "DIAMOnD(): ignoring 1 of 174 seed genes that are not in the network\n",
      "\n",
      " results have been saved to 'data/results/C0003873/diamond_C0003873.txt' \n",
      "\n",
      "===================\n",
      "C0019193\n",
      "DIAMOnD(): ignoring 83 of 404 seed genes that are not in the network\n",
      "\n",
      " results have been saved to 'data/results/C0019193/diamond_C0019193.txt' \n",
      "\n",
      "===================\n",
      "C0033578\n",
      "DIAMOnD(): ignoring 3 of 616 seed genes that are not in the network\n",
      "\n",
      " results have been saved to 'data/results/C0033578/diamond_C0033578.txt' \n",
      "\n",
      "===================\n",
      "C0919267\n",
      "DIAMOnD(): ignoring 1 of 134 seed genes that are not in the network\n",
      "\n",
      " results have been saved to 'data/results/C0919267/diamond_C0919267.txt' \n",
      "\n",
      "===================\n",
      "C0917816\n",
      "\n",
      " results have been saved to 'data/results/C0917816/diamond_C0917816.txt' \n",
      "\n",
      "===================\n"
     ]
    }
   ],
   "source": [
    "for disease in diseases:\n",
    "    print(disease)\n",
    "    DIAMOND(network_file='data/processed/PPI.txt', seed_file=f'data/{disease}/seeds_{disease}.txt', n=n_iter_diamond_diable[disease], \n",
    "            alpha=1, out_file=f'data/results/{disease}/diamond_{disease}.txt')\n",
    "    print('===================')"
   ]
  },
  {
   "cell_type": "code",
   "execution_count": 15,
   "metadata": {},
   "outputs": [
    {
     "name": "stdout",
     "output_type": "stream",
     "text": [
      "C0003873\n",
      "DiaBLE(): ignoring 1 of 174 seed genes that are not in the network\n",
      "\n",
      " results have been saved to 'data/results/C0003873/diable_C0003873.txt' \n",
      "\n",
      "===================\n",
      "C0019193\n",
      "DiaBLE(): ignoring 83 of 404 seed genes that are not in the network\n",
      "\n",
      " results have been saved to 'data/results/C0019193/diable_C0019193.txt' \n",
      "\n",
      "===================\n",
      "C0033578\n",
      "DiaBLE(): ignoring 3 of 616 seed genes that are not in the network\n",
      "\n",
      " results have been saved to 'data/results/C0033578/diable_C0033578.txt' \n",
      "\n",
      "===================\n",
      "C0919267\n",
      "DiaBLE(): ignoring 1 of 134 seed genes that are not in the network\n",
      "\n",
      " results have been saved to 'data/results/C0919267/diable_C0919267.txt' \n",
      "\n",
      "===================\n",
      "C0917816\n",
      "\n",
      " results have been saved to 'data/results/C0917816/diable_C0917816.txt' \n",
      "\n",
      "===================\n"
     ]
    }
   ],
   "source": [
    "for disease in diseases:\n",
    "    print(disease)\n",
    "    DIABLE(network_file='data/processed/PPI.txt', seed_file=f'data/{disease}/seeds_{disease}.txt', n=n_iter_diamond_diable[disease], \n",
    "           alpha=1, out_file=f'data/results/{disease}/diable_{disease}.txt')\n",
    "    print('===================')"
   ]
  },
  {
   "cell_type": "code",
   "execution_count": 16,
   "metadata": {},
   "outputs": [
    {
     "name": "stdout",
     "output_type": "stream",
     "text": [
      "C0003873\n",
      "RANDOM_WALK_WITH_RESTART(): ignoring 1 of 174 seed genes that are not in the network\n",
      "\n",
      " results have been saved to 'data/results/C0003873/r_walk_C0003873.txt' \n",
      "\n",
      "===================\n",
      "C0019193\n",
      "RANDOM_WALK_WITH_RESTART(): ignoring 83 of 404 seed genes that are not in the network\n",
      "\n",
      " results have been saved to 'data/results/C0019193/r_walk_C0019193.txt' \n",
      "\n",
      "===================\n",
      "C0033578\n",
      "RANDOM_WALK_WITH_RESTART(): ignoring 3 of 616 seed genes that are not in the network\n",
      "\n",
      " results have been saved to 'data/results/C0033578/r_walk_C0033578.txt' \n",
      "\n",
      "===================\n",
      "C0919267\n",
      "RANDOM_WALK_WITH_RESTART(): ignoring 1 of 134 seed genes that are not in the network\n",
      "\n",
      " results have been saved to 'data/results/C0919267/r_walk_C0919267.txt' \n",
      "\n",
      "===================\n",
      "C0917816\n",
      "\n",
      " results have been saved to 'data/results/C0917816/r_walk_C0917816.txt' \n",
      "\n",
      "===================\n"
     ]
    }
   ],
   "source": [
    "for disease in diseases:\n",
    "    print(disease)\n",
    "    RANDOM_WALK_WITH_RESTART(network_file='data/processed/PPI.txt', seed_file=f'data/{disease}/seeds_{disease}.txt', r=0.7, \n",
    "                             score_thr=0, tol=1e-6, out_file=f'data/results/{disease}/r_walk_{disease}.txt')\n",
    "    print('===================')"
   ]
  },
  {
   "cell_type": "markdown",
   "metadata": {},
   "source": [
    "## 5-fold cross validation"
   ]
  },
  {
   "cell_type": "code",
   "execution_count": 17,
   "metadata": {},
   "outputs": [],
   "source": [
    "from imported_code.diamond import DIAMOnD"
   ]
  },
  {
   "cell_type": "code",
   "execution_count": 18,
   "metadata": {},
   "outputs": [
    {
     "name": "stdout",
     "output_type": "stream",
     "text": [
      "C0003873\n",
      "===================\n",
      "C0019193\n",
      "===================\n",
      "C0033578\n",
      "===================\n",
      "C0919267\n",
      "===================\n",
      "C0917816\n",
      "===================\n"
     ]
    }
   ],
   "source": [
    "for disease in diseases:\n",
    "    print(disease)\n",
    "\n",
    "    kwargs = {\n",
    "        'network_file':'data/processed/PPI.txt', \n",
    "        'seed_file':f'data/{disease}/seeds_{disease}.txt',\n",
    "        'metrics_file':f'data/results/{disease}/metrics_diamond_{disease}.json',\n",
    "        'extended_disease_file':None,\n",
    "        'disease':disease,\n",
    "        'func_args':{\n",
    "            'max_number_of_added_nodes':n_iter_diamond_diable[disease],\n",
    "            'alpha':1,\n",
    "            'outfile':'./data/results/kfold_tmp.txt'\n",
    "        }\n",
    "    }\n",
    "\n",
    "    metrics = k_fold(DIAMOnD, compute_metrics, k=5, extended_val=False, **kwargs)\n",
    "    print('===================')"
   ]
  },
  {
   "cell_type": "code",
   "execution_count": 19,
   "metadata": {},
   "outputs": [
    {
     "name": "stdout",
     "output_type": "stream",
     "text": [
      "C0003873\n",
      "===================\n",
      "C0019193\n",
      "===================\n",
      "C0033578\n",
      "===================\n",
      "C0919267\n",
      "===================\n",
      "C0917816\n",
      "===================\n"
     ]
    }
   ],
   "source": [
    "for disease in diseases:\n",
    "    print(disease)\n",
    "\n",
    "    kwargs = {\n",
    "        'network_file':'data/processed/PPI.txt', \n",
    "        'seed_file':f'data/{disease}/seeds_{disease}.txt',\n",
    "        'metrics_file':f'data/results/{disease}/metrics_diable_{disease}.json',\n",
    "        'extended_disease_file':None,\n",
    "        'disease':disease,\n",
    "        'func_args':{\n",
    "            'max_number_of_added_nodes':n_iter_diamond_diable[disease],\n",
    "            'alpha':1,\n",
    "            'outfile':'./data/results/kfold_tmp.txt'\n",
    "        }\n",
    "    }\n",
    "\n",
    "    metrics = k_fold(DiaBLE, compute_metrics, k=5, extended_val=False, **kwargs)\n",
    "    print('===================')"
   ]
  },
  {
   "cell_type": "code",
   "execution_count": 20,
   "metadata": {},
   "outputs": [
    {
     "name": "stdout",
     "output_type": "stream",
     "text": [
      "C0003873\n",
      "===================\n",
      "C0019193\n",
      "===================\n",
      "C0033578\n",
      "===================\n",
      "C0919267\n",
      "===================\n",
      "C0917816\n",
      "===================\n"
     ]
    }
   ],
   "source": [
    "for disease in diseases:\n",
    "    print(disease)\n",
    "\n",
    "    kwargs = {\n",
    "        'network_file':'data/processed/PPI.txt', \n",
    "        'seed_file':f'data/{disease}/seeds_{disease}.txt',\n",
    "        'metrics_file':f'data/results/{disease}/metrics_r_walk_{disease}.json',\n",
    "        'extended_disease_file':None,\n",
    "        'disease':disease,\n",
    "        'func_args':{\n",
    "            'r':0.7, \n",
    "            'score_thr':0, \n",
    "            'tol':1e-6, \n",
    "            'sorted_nodes_only':True\n",
    "        }   \n",
    "    }\n",
    "\n",
    "    metrics = k_fold(random_walk_wr, compute_metrics, k=5, extended_val=False, **kwargs)\n",
    "    print('===================')"
   ]
  },
  {
   "cell_type": "code",
   "execution_count": 43,
   "metadata": {},
   "outputs": [
    {
     "name": "stdout",
     "output_type": "stream",
     "text": [
      "Number of clusters: 2\n"
     ]
    },
    {
     "name": "stderr",
     "output_type": "stream",
     "text": [
      "c:\\Users\\juanm\\Documents\\Master\\Data Science\\3_Semester\\Bioinformatics\\Project\\BI-Project\\funcs.py:627: RuntimeWarning: invalid value encountered in double_scalars\n",
      "  return metrics\n"
     ]
    },
    {
     "name": "stdout",
     "output_type": "stream",
     "text": [
      "Number of clusters: 2\n",
      "Number of clusters: 2\n",
      "Number of clusters: 2\n",
      "Number of clusters: 2\n",
      "Number of clusters: 2\n",
      "Number of clusters: 2\n",
      "Number of clusters: 2\n",
      "Number of clusters: 2\n",
      "Number of clusters: 2\n"
     ]
    }
   ],
   "source": [
    "MCL_metric = k_fold_MCL(human_file='data/homo_preprocess.tsv',\n",
    "                        seed_file='data/seed.txt', metric_func=compute_metrics)"
   ]
  },
  {
   "cell_type": "code",
   "execution_count": null,
   "metadata": {},
   "outputs": [],
   "source": [
    "res = diffusion_heat(path='diffusion_heat/C0003873_old/')\n",
    "diffusion_heat_metric = k_fold_diffusion_heat(res, metric_func=compute_metrics, \n",
    "                                              n=174, disease='C0003873_old')"
   ]
  },
  {
   "cell_type": "markdown",
   "metadata": {},
   "source": [
    "## Extended validation"
   ]
  },
  {
   "cell_type": "code",
   "execution_count": 21,
   "metadata": {},
   "outputs": [],
   "source": [
    "from imported_code.diamond import DIAMOnD"
   ]
  },
  {
   "cell_type": "code",
   "execution_count": 24,
   "metadata": {},
   "outputs": [
    {
     "name": "stdout",
     "output_type": "stream",
     "text": [
      "C0003873\n",
      "===================\n",
      "C0019193\n",
      "===================\n",
      "C0033578\n",
      "===================\n",
      "C0919267\n",
      "===================\n",
      "C0917816\n",
      "===================\n"
     ]
    }
   ],
   "source": [
    "for disease in diseases:\n",
    "    print(disease)\n",
    "\n",
    "    kwargs = {\n",
    "        'network_file':'data/processed/PPI.txt', \n",
    "        'seed_file':f'data/{disease}/seeds_{disease}.txt',\n",
    "        'metrics_file':f'data/results/{disease}/metrics_ext_diamond_{disease}.json',\n",
    "        'extended_disease_file':'data/all_gene_disease_associations.tsv',\n",
    "        'disease':disease,\n",
    "        'func_args':{\n",
    "            'max_number_of_added_nodes':n_iter_diamond_diable[disease],\n",
    "            'alpha':1,\n",
    "            'outfile':'./data/results/kfold_tmp.txt'\n",
    "        }\n",
    "    }\n",
    "\n",
    "    metrics = k_fold(DIAMOnD, compute_metrics, k=5, extended_val=True, **kwargs)\n",
    "    print('===================')"
   ]
  },
  {
   "cell_type": "code",
   "execution_count": 25,
   "metadata": {},
   "outputs": [
    {
     "name": "stdout",
     "output_type": "stream",
     "text": [
      "C0003873\n",
      "===================\n",
      "C0019193\n",
      "===================\n",
      "C0033578\n",
      "===================\n",
      "C0919267\n",
      "===================\n",
      "C0917816\n",
      "===================\n"
     ]
    }
   ],
   "source": [
    "for disease in diseases:\n",
    "    print(disease)\n",
    "\n",
    "    kwargs = {\n",
    "        'network_file':'data/processed/PPI.txt', \n",
    "        'seed_file':f'data/{disease}/seeds_{disease}.txt',\n",
    "        'metrics_file':f'data/results/{disease}/metrics_ext_diable_{disease}.json',\n",
    "        'extended_disease_file':'data/all_gene_disease_associations.tsv',\n",
    "        'disease':disease,\n",
    "        'func_args':{\n",
    "            'max_number_of_added_nodes':n_iter_diamond_diable[disease],\n",
    "            'alpha':1,\n",
    "            'outfile':'./data/results/kfold_tmp.txt'\n",
    "        }\n",
    "    }\n",
    "\n",
    "    metrics = k_fold(DiaBLE, compute_metrics, k=5, extended_val=True, **kwargs)\n",
    "    print('===================')"
   ]
  },
  {
   "cell_type": "code",
   "execution_count": 26,
   "metadata": {},
   "outputs": [
    {
     "name": "stdout",
     "output_type": "stream",
     "text": [
      "C0003873\n",
      "===================\n",
      "C0019193\n",
      "===================\n",
      "C0033578\n",
      "===================\n",
      "C0919267\n",
      "===================\n",
      "C0917816\n",
      "===================\n"
     ]
    }
   ],
   "source": [
    "for disease in diseases:\n",
    "    print(disease)\n",
    "\n",
    "    kwargs = {\n",
    "        'network_file':'data/processed/PPI.txt', \n",
    "        'seed_file':f'data/{disease}/seeds_{disease}.txt',\n",
    "        'metrics_file':f'data/results/{disease}/metrics_ext_r_walk_{disease}.json',\n",
    "        'extended_disease_file':'data/all_gene_disease_associations.tsv',\n",
    "        'disease':disease,\n",
    "        'func_args':{\n",
    "            'r':0.7, \n",
    "            'score_thr':0, \n",
    "            'tol':1e-6, \n",
    "            'sorted_nodes_only':True\n",
    "        }\n",
    "    }\n",
    "\n",
    "    metrics = k_fold(random_walk_wr, compute_metrics, k=5, extended_val=True, **kwargs)\n",
    "    print('===================')"
   ]
  },
  {
   "cell_type": "markdown",
   "metadata": {},
   "source": [
    "## Results to $\\LaTeX$"
   ]
  },
  {
   "cell_type": "code",
   "execution_count": 26,
   "metadata": {},
   "outputs": [],
   "source": [
    "import pandas as pd\n",
    "import re"
   ]
  },
  {
   "cell_type": "code",
   "execution_count": 183,
   "metadata": {},
   "outputs": [],
   "source": [
    "def prepare_results_for_latex(results_file):\n",
    "    \"\"\"\n",
    "    Prepare the results of an algorithm for a disease for the LaTeX visualization\n",
    "    \"\"\"\n",
    "    alg_name_regx = re.compile('(?<=metrics_)(.+)(?=_)')\n",
    "    alg_name = re.search(alg_name_regx, results_file).group(0).upper()\n",
    "    results = pd.read_json(results_file, orient='index').set_axis(['avg', 'std'], axis=1)\n",
    "    results[alg_name] = (results['avg'] * 100).round(decimals=2).astype('str') + ' ± ' + (results['std'] * 100).round(decimals=2).astype('str')\n",
    "    results.drop(['avg', 'std'], axis=1, inplace=True)\n",
    "    results.index = results.index.str.replace(re.compile('(_at(_k)?_)'), '@').str.capitalize()\n",
    "    results.index = results.index.str.split('@', expand=True)\n",
    "    results.index.rename(['Metric', '@'], inplace=True)\n",
    "    results.reset_index(inplace=True)\n",
    "    results['@'] = results['@'].astype(int)\n",
    "    results.sort_values(['@', 'Metric'], inplace=True)\n",
    "    results.set_index(['@', 'Metric'], inplace=True)\n",
    "    return results"
   ]
  },
  {
   "cell_type": "code",
   "execution_count": 184,
   "metadata": {},
   "outputs": [],
   "source": [
    "def join_results(results_files):\n",
    "    \"\"\"\n",
    "    \"\"\"\n",
    "    results_list = []\n",
    "    for results_file in results_files:\n",
    "        results = prepare_results_for_latex(results_file)\n",
    "        results_list.append(results)\n",
    "    return pd.concat(results_list, axis=1, join='inner')\n"
   ]
  },
  {
   "cell_type": "code",
   "execution_count": 220,
   "metadata": {},
   "outputs": [],
   "source": [
    "def print_latex(results_files):\n",
    "    \"\"\"\n",
    "    \"\"\"\n",
    "    results = join_results(results_files)\n",
    "    header = [r'\\textbf{Diffusion Heat}', r'\\textbf{Random Walk WR}', \n",
    "              r'\\textbf{DIAMOND}', r'\\textbf{DIABLE}']\n",
    "    results.columns = header\n",
    "    results.index = results.index.set_levels(results.index.levels[1].str.replace('Ndcg', 'NDCG').str.replace('score', 'Score'), level=1)\n",
    "    latex = results.to_latex(bold_rows=True, escape=False, multicolumn=True, multirow=True, column_format='rr|cccc')\n",
    "    print(latex)"
   ]
  },
  {
   "cell_type": "code",
   "execution_count": 227,
   "metadata": {},
   "outputs": [],
   "source": [
    "# C0003873 C0019193 C0033578 C0919267 C0917816\n",
    "\n",
    "disease = 'C0917816'\n",
    "algorithms = ['heat', 'r_walk', 'diamond', 'diable']\n",
    "results_files = [f'data/results/{disease}/metrics_{algorithm}_{disease}.json' for algorithm in algorithms]"
   ]
  },
  {
   "cell_type": "code",
   "execution_count": null,
   "metadata": {},
   "outputs": [],
   "source": [
    "print_latex(results_files)"
   ]
  }
 ],
 "metadata": {
  "interpreter": {
   "hash": "e7370f93d1d0cde622a1f8e1c04877d8463912d04d973331ad4851f04de6915a"
  },
  "kernelspec": {
   "display_name": "data_science_general",
   "language": "python",
   "name": "python3"
  },
  "language_info": {
   "codemirror_mode": {
    "name": "ipython",
    "version": 3
   },
   "file_extension": ".py",
   "mimetype": "text/x-python",
   "name": "python",
   "nbconvert_exporter": "python",
   "pygments_lexer": "ipython3",
   "version": "3.9.9"
  }
 },
 "nbformat": 4,
 "nbformat_minor": 4
}
