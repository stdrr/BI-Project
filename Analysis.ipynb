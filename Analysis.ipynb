{
 "cells": [
  {
   "cell_type": "code",
   "execution_count": 1,
   "metadata": {},
   "outputs": [],
   "source": [
    "%load_ext autoreload\n",
    "%autoreload 2"
   ]
  },
  {
   "cell_type": "code",
   "execution_count": 2,
   "metadata": {},
   "outputs": [],
   "source": [
    "import os\n",
    "import sys\n",
    "import matplotlib.pyplot as plt\n",
    "\n",
    "module_path = os.path.abspath(os.path.join('..\\..'))\n",
    "if module_path not in sys.path:\n",
    "    sys.path.insert(0, module_path)"
   ]
  },
  {
   "cell_type": "code",
   "execution_count": 73,
   "metadata": {},
   "outputs": [],
   "source": [
    "from funcs import *"
   ]
  },
  {
   "cell_type": "markdown",
   "metadata": {},
   "source": [
    "## Read Data + Save"
   ]
  },
  {
   "cell_type": "code",
   "execution_count": 4,
   "metadata": {},
   "outputs": [],
   "source": [
    "human_data(file='data/BIOGRID-ORGANISM-Homo_sapiens-4.4.204.tab3.txt',\n",
    "           save_file='data/homo_preprocess.tsv')"
   ]
  },
  {
   "cell_type": "code",
   "execution_count": 5,
   "metadata": {},
   "outputs": [],
   "source": [
    "disease_data(file='data/curated_gene_disease_associations.tsv',\n",
    "             disease_id='C0003873')"
   ]
  },
  {
   "cell_type": "markdown",
   "metadata": {},
   "source": [
    "## Data Overview"
   ]
  },
  {
   "cell_type": "code",
   "execution_count": 6,
   "metadata": {},
   "outputs": [
    {
     "name": "stdout",
     "output_type": "stream",
     "text": [
      "Number of genes associated with the desease: 174\n",
      "Classes of the desease: ['C17;C05;C20']\n",
      "Number of genes present in the interactome: 173\n",
      "Largest connected component: 83\n"
     ]
    }
   ],
   "source": [
    "data_overview(human_file='data/homo_preprocess.tsv',\n",
    "              disease_file='data/diseaseC0003873.tsv')"
   ]
  },
  {
   "cell_type": "markdown",
   "metadata": {},
   "source": [
    "## Algorithms"
   ]
  },
  {
   "cell_type": "code",
   "execution_count": null,
   "metadata": {},
   "outputs": [],
   "source": [
    "MCL(human_file='data/homo_preprocess.tsv', start=20, end=27)"
   ]
  },
  {
   "cell_type": "code",
   "execution_count": 15,
   "metadata": {},
   "outputs": [
    {
     "name": "stdout",
     "output_type": "stream",
     "text": [
      "DIAMOnD(): ignoring 1 of 174 seed genes that are not in the network\n",
      "\n",
      " results have been saved to 'data/diamond_results.txt' \n",
      "\n"
     ]
    }
   ],
   "source": [
    "DIAMOND(network_file='data/PPI.txt', seed_file='data/seed_genes.txt', n=200, alpha=1, out_file='data/diamond_results.txt')"
   ]
  },
  {
   "cell_type": "code",
   "execution_count": 61,
   "metadata": {},
   "outputs": [
    {
     "name": "stdout",
     "output_type": "stream",
     "text": [
      "DiaBLE(): ignoring 1 of 174 seed genes that are not in the network\n",
      "\n",
      " results have been saved to 'data/diable_results.txt' \n",
      "\n"
     ]
    }
   ],
   "source": [
    "DIABLE(network_file='data/PPI.txt', seed_file='data/seed_genes.txt', n=200, alpha=1, out_file='data/diable_results.txt')"
   ]
  },
  {
   "cell_type": "code",
   "execution_count": 91,
   "metadata": {},
   "outputs": [
    {
     "name": "stdout",
     "output_type": "stream",
     "text": [
      "RANDOM_WALK_WITH_RESTART(): ignoring 1 of 174 seed genes that are not in the network\n",
      "\n",
      " results have been saved to 'data/random_walk_wr_results.txt' \n",
      "\n"
     ]
    }
   ],
   "source": [
    "RANDOM_WALK_WITH_RESTART(network_file='data/PPI.txt', seed_file='data/seed_genes.txt', r=0.1, score_thr=0, tol=1e-6)"
   ]
  },
  {
   "cell_type": "markdown",
   "metadata": {},
   "source": [
    "## 10-fold cross validation"
   ]
  },
  {
   "cell_type": "markdown",
   "metadata": {},
   "source": []
  },
  {
   "cell_type": "markdown",
   "metadata": {},
   "source": [
    "## Extended validation"
   ]
  },
  {
   "cell_type": "code",
   "execution_count": null,
   "metadata": {},
   "outputs": [],
   "source": []
  }
 ],
 "metadata": {
  "interpreter": {
   "hash": "e7370f93d1d0cde622a1f8e1c04877d8463912d04d973331ad4851f04de6915a"
  },
  "kernelspec": {
   "display_name": "data_science_general",
   "language": "python",
   "name": "python3"
  },
  "language_info": {
   "codemirror_mode": {
    "name": "ipython",
    "version": 3
   },
   "file_extension": ".py",
   "mimetype": "text/x-python",
   "name": "python",
   "nbconvert_exporter": "python",
   "pygments_lexer": "ipython3",
   "version": "3.9.7"
  }
 },
 "nbformat": 4,
 "nbformat_minor": 4
}
