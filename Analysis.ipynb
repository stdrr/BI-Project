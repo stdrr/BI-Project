{
 "cells": [
  {
   "cell_type": "code",
   "execution_count": 1,
   "metadata": {},
   "outputs": [],
   "source": [
    "%load_ext autoreload\n",
    "%autoreload 2"
   ]
  },
  {
   "cell_type": "code",
   "execution_count": 2,
   "metadata": {},
   "outputs": [],
   "source": [
    "import os\n",
    "import sys\n",
    "import matplotlib.pyplot as plt\n",
    "\n",
    "module_path = os.path.abspath(os.path.join('..\\..'))\n",
    "if module_path not in sys.path:\n",
    "    sys.path.insert(0, module_path)"
   ]
  },
  {
   "cell_type": "code",
   "execution_count": 3,
   "metadata": {},
   "outputs": [],
   "source": [
    "from funcs import *"
   ]
  },
  {
   "cell_type": "code",
   "execution_count": 4,
   "metadata": {},
   "outputs": [],
   "source": [
    "disease = 'C0003873'"
   ]
  },
  {
   "cell_type": "markdown",
   "metadata": {},
   "source": [
    "## Read Data + Save"
   ]
  },
  {
   "cell_type": "code",
   "execution_count": 5,
   "metadata": {},
   "outputs": [
    {
     "name": "stdout",
     "output_type": "stream",
     "text": [
      "Nodes:  19618\n",
      "Edges:  665061\n"
     ]
    }
   ],
   "source": [
    "human_data(file='data/BIOGRID-ORGANISM-Homo_sapiens-4.4.204.tab3.txt',\n",
    "           save_file='data/processed/homo_preprocess.tsv', correct=False)"
   ]
  },
  {
   "cell_type": "code",
   "execution_count": 6,
   "metadata": {},
   "outputs": [],
   "source": [
    "disease_data(file='data/curated_gene_disease_associations.tsv',\n",
    "             disease_id=disease)"
   ]
  },
  {
   "cell_type": "code",
   "execution_count": 7,
   "metadata": {},
   "outputs": [],
   "source": [
    "generate_PPI(in_file='data/processed/homo_preprocess.tsv', out_file='data/processed/PPI.txt')"
   ]
  },
  {
   "cell_type": "markdown",
   "metadata": {},
   "source": [
    "## Data Overview"
   ]
  },
  {
   "cell_type": "code",
   "execution_count": 8,
   "metadata": {},
   "outputs": [
    {
     "name": "stdout",
     "output_type": "stream",
     "text": [
      "Number of genes associated with the disease: 174\n",
      "Classes of the disease: ['C17;C05;C20']\n",
      "Number of genes present in the interactome: 173\n",
      "Largest connected component: 83\n",
      "Number of genes in the interactome: 19618\n",
      "Missing gene: {6556}\n"
     ]
    }
   ],
   "source": [
    "data_overview(human_file='data/processed/homo_preprocess.tsv',\n",
    "              disease_file=f'data/processed/disease{disease}.tsv')"
   ]
  },
  {
   "cell_type": "code",
   "execution_count": 28,
   "metadata": {},
   "outputs": [],
   "source": [
    "split_files_diffusion_heat(seeds='data/seed.txt', disease=disease, k=10)"
   ]
  },
  {
   "cell_type": "markdown",
   "metadata": {},
   "source": [
    "## Make sure the interactome follows the ground truth:\n",
    "Nodes = 19618\n",
    "\n",
    "Edges = 665061"
   ]
  },
  {
   "cell_type": "code",
   "execution_count": 54,
   "metadata": {},
   "outputs": [],
   "source": [
    "interactome_df = pd.read_csv('data/homo_preprocess.tsv', sep='\\t')\n",
    "interactome_g = nx.from_pandas_edgelist(interactome_df, source='A',\n",
    "                                        target='B')"
   ]
  },
  {
   "cell_type": "code",
   "execution_count": 55,
   "metadata": {},
   "outputs": [
    {
     "data": {
      "text/plain": [
       "19620"
      ]
     },
     "execution_count": 55,
     "metadata": {},
     "output_type": "execute_result"
    }
   ],
   "source": [
    "interactome_g.number_of_nodes()"
   ]
  },
  {
   "cell_type": "code",
   "execution_count": 56,
   "metadata": {},
   "outputs": [
    {
     "data": {
      "text/plain": [
       "665061"
      ]
     },
     "execution_count": 56,
     "metadata": {},
     "output_type": "execute_result"
    }
   ],
   "source": [
    "interactome_g.number_of_edges()"
   ]
  },
  {
   "cell_type": "markdown",
   "metadata": {},
   "source": [
    "## Algorithms"
   ]
  },
  {
   "cell_type": "code",
   "execution_count": null,
   "metadata": {},
   "outputs": [],
   "source": [
    "MCL_hyper('data/homo_preprocess.tsv', start=18, end=23)"
   ]
  },
  {
   "cell_type": "code",
   "execution_count": 9,
   "metadata": {},
   "outputs": [
    {
     "name": "stdout",
     "output_type": "stream",
     "text": [
      "DIAMOnD(): ignoring 1 of 174 seed genes that are not in the network\n",
      "\n",
      " results have been saved to 'data/results/diamond_C0003873.txt' \n",
      "\n"
     ]
    }
   ],
   "source": [
    "DIAMOND(network_file='data/processed/PPI.txt', seed_file=f'data/processed/seeds_{disease}.txt', n=200, alpha=1, out_file=f'data/results/diamond_{disease}.txt')"
   ]
  },
  {
   "cell_type": "code",
   "execution_count": 10,
   "metadata": {},
   "outputs": [
    {
     "name": "stdout",
     "output_type": "stream",
     "text": [
      "DiaBLE(): ignoring 1 of 174 seed genes that are not in the network\n",
      "\n",
      " results have been saved to 'data/results/diable_C0003873.txt' \n",
      "\n"
     ]
    }
   ],
   "source": [
    "DIABLE(network_file='data/processed/PPI.txt', seed_file=f'data/processed/seeds_{disease}.txt', n=200, alpha=1, out_file=f'data/results/diable_{disease}.txt')"
   ]
  },
  {
   "cell_type": "code",
   "execution_count": 11,
   "metadata": {},
   "outputs": [
    {
     "name": "stdout",
     "output_type": "stream",
     "text": [
      "RANDOM_WALK_WITH_RESTART(): ignoring 1 of 174 seed genes that are not in the network\n",
      "\n",
      " results have been saved to 'data/results/r_walk_C0003873.txt' \n",
      "\n"
     ]
    }
   ],
   "source": [
    "RANDOM_WALK_WITH_RESTART(network_file='data/processed/PPI.txt', seed_file=f'data/processed/seeds_{disease}.txt', r=0.7, score_thr=0, tol=1e-6, out_file=f'data/results/r_walk_{disease}.txt')"
   ]
  },
  {
   "cell_type": "markdown",
   "metadata": {},
   "source": [
    "## 5-fold cross validation"
   ]
  },
  {
   "cell_type": "code",
   "execution_count": 13,
   "metadata": {},
   "outputs": [],
   "source": [
    "from imported_code.diamond import DIAMOnD"
   ]
  },
  {
   "cell_type": "code",
   "execution_count": 16,
   "metadata": {},
   "outputs": [],
   "source": [
    "kwargs = {\n",
    "    'network_file':'data/processed/PPI.txt', \n",
    "    'seed_file':f'data/processed/seeds_{disease}.txt',\n",
    "    'metrics_file':f'data/results/metrics_diamond_{disease}.json',\n",
    "    'extended_disease_file':None,\n",
    "    'disease':disease,\n",
    "    'func_args':{\n",
    "        'max_number_of_added_nodes':200,\n",
    "        'alpha':1,\n",
    "        'outfile':'./data/results/kfold_tmp.txt'\n",
    "    }\n",
    "    \n",
    "}\n",
    "\n",
    "metrics = k_fold(DIAMOnD, compute_metrics, k=5, extended_val=False, **kwargs)"
   ]
  },
  {
   "cell_type": "code",
   "execution_count": 17,
   "metadata": {},
   "outputs": [
    {
     "data": {
      "text/plain": [
       "defaultdict(list,\n",
       "            {'precision_at_50': (0.008, 0.0098),\n",
       "             'recall_at_50': (0.01143, 0.014),\n",
       "             'ndcg_at_k_50': (0.00999, 0.01259),\n",
       "             'F1-score_at_50': (0.00941, 0.01153),\n",
       "             'precision_at_17': (0.01176, 0.02353),\n",
       "             'recall_at_17': (0.00571, 0.01143),\n",
       "             'ndcg_at_k_17': (0.00949, 0.01898),\n",
       "             'F1-score_at_17': (0.00769, 0.01538),\n",
       "             'precision_at_43': (0.0093, 0.01139),\n",
       "             'recall_at_43': (0.01143, 0.014),\n",
       "             'ndcg_at_k_43': (0.00999, 0.01259),\n",
       "             'F1-score_at_43': (0.01026, 0.01256),\n",
       "             'precision_at_86': (0.01163, 0.0),\n",
       "             'recall_at_86': (0.02891, 0.00041),\n",
       "             'ndcg_at_k_86': (0.01988, 0.00515),\n",
       "             'F1-score_at_86': (0.01658, 7e-05),\n",
       "             'precision_at_173': (0.00809, 0.00283),\n",
       "             'recall_at_173': (0.0405, 0.01428),\n",
       "             'ndcg_at_k_173': (0.0254, 0.00533),\n",
       "             'F1-score_at_173': (0.01349, 0.00473)})"
      ]
     },
     "execution_count": 17,
     "metadata": {},
     "output_type": "execute_result"
    }
   ],
   "source": [
    "metrics"
   ]
  },
  {
   "cell_type": "code",
   "execution_count": 18,
   "metadata": {},
   "outputs": [],
   "source": [
    "kwargs = {\n",
    "    'network_file':'data/processed/PPI.txt', \n",
    "    'seed_file':f'data/processed/seeds_{disease}.txt',\n",
    "    'metrics_file':f'data/results/metrics_diable_{disease}.json',\n",
    "    'extended_disease_file':None,\n",
    "    'disease':disease,\n",
    "    'func_args':{\n",
    "        'max_number_of_added_nodes':200,\n",
    "        'alpha':1,\n",
    "        'outfile':'./data/results/kfold_tmp.txt'\n",
    "    }\n",
    "    \n",
    "}\n",
    "\n",
    "metrics = k_fold(DiaBLE, compute_metrics, k=5, extended_val=False, **kwargs)"
   ]
  },
  {
   "cell_type": "code",
   "execution_count": 19,
   "metadata": {},
   "outputs": [
    {
     "data": {
      "text/plain": [
       "defaultdict(list,\n",
       "            {'precision_at_50': (0.012, 0.016),\n",
       "             'recall_at_50': (0.01714, 0.02286),\n",
       "             'ndcg_at_k_50': (0.01757, 0.02223),\n",
       "             'F1-score_at_50': (0.01412, 0.01882),\n",
       "             'precision_at_17': (0.02353, 0.02882),\n",
       "             'recall_at_17': (0.01143, 0.014),\n",
       "             'ndcg_at_k_17': (0.02173, 0.02664),\n",
       "             'F1-score_at_17': (0.01538, 0.01884),\n",
       "             'precision_at_43': (0.01395, 0.0186),\n",
       "             'recall_at_43': (0.01714, 0.02286),\n",
       "             'ndcg_at_k_43': (0.01757, 0.02223),\n",
       "             'F1-score_at_43': (0.01538, 0.02051),\n",
       "             'precision_at_86': (0.0093, 0.01139),\n",
       "             'recall_at_86': (0.02286, 0.02799),\n",
       "             'ndcg_at_k_86': (0.02084, 0.02552),\n",
       "             'F1-score_at_86': (0.01322, 0.01619),\n",
       "             'precision_at_173': (0.00925, 0.00784),\n",
       "             'recall_at_173': (0.04605, 0.03886),\n",
       "             'ndcg_at_k_173': (0.03246, 0.02966),\n",
       "             'F1-score_at_173': (0.0154, 0.01305)})"
      ]
     },
     "execution_count": 19,
     "metadata": {},
     "output_type": "execute_result"
    }
   ],
   "source": [
    "metrics"
   ]
  },
  {
   "cell_type": "code",
   "execution_count": 26,
   "metadata": {},
   "outputs": [],
   "source": [
    "kwargs = {\n",
    "    'network_file':'data/processed/PPI.txt', \n",
    "    'seed_file':f'data/processed/seeds_{disease}.txt',\n",
    "    'metrics_file':f'data/results/metrics_r_walk_{disease}.json',\n",
    "    'extended_disease_file':None,\n",
    "    'disease':disease,\n",
    "    'func_args':{\n",
    "        'r':0.7, \n",
    "        'score_thr':0, \n",
    "        'tol':1e-6, \n",
    "        'sorted_nodes_only':True\n",
    "    }\n",
    "    \n",
    "}\n",
    "\n",
    "metrics = k_fold(random_walk_wr, compute_metrics, k=5, extended_val=False, **kwargs)"
   ]
  },
  {
   "cell_type": "code",
   "execution_count": 27,
   "metadata": {},
   "outputs": [
    {
     "data": {
      "text/plain": [
       "defaultdict(list,\n",
       "            {'precision_at_50': (0.0, 0.0),\n",
       "             'recall_at_50': (0.0, 0.0),\n",
       "             'ndcg_at_k_50': (0.0, 0.0),\n",
       "             'F1-score_at_50': (0.0, 0.0),\n",
       "             'precision_at_17': (0.0, 0.0),\n",
       "             'recall_at_17': (0.0, 0.0),\n",
       "             'ndcg_at_k_17': (0.0, 0.0),\n",
       "             'F1-score_at_17': (0.0, 0.0),\n",
       "             'precision_at_43': (0.0, 0.0),\n",
       "             'recall_at_43': (0.0, 0.0),\n",
       "             'ndcg_at_k_43': (0.0, 0.0),\n",
       "             'F1-score_at_43': (0.0, 0.0),\n",
       "             'precision_at_86': (0.0, 0.0),\n",
       "             'recall_at_86': (0.0, 0.0),\n",
       "             'ndcg_at_k_86': (0.0, 0.0),\n",
       "             'F1-score_at_86': (0.0, 0.0),\n",
       "             'precision_at_173': (0.0, 0.0),\n",
       "             'recall_at_173': (0.0, 0.0),\n",
       "             'ndcg_at_k_173': (0.0, 0.0),\n",
       "             'F1-score_at_173': (0.0, 0.0)})"
      ]
     },
     "execution_count": 27,
     "metadata": {},
     "output_type": "execute_result"
    }
   ],
   "source": [
    "metrics"
   ]
  },
  {
   "cell_type": "code",
   "execution_count": 43,
   "metadata": {},
   "outputs": [
    {
     "name": "stdout",
     "output_type": "stream",
     "text": [
      "Number of clusters: 2\n"
     ]
    },
    {
     "name": "stderr",
     "output_type": "stream",
     "text": [
      "c:\\Users\\juanm\\Documents\\Master\\Data Science\\3_Semester\\Bioinformatics\\Project\\BI-Project\\funcs.py:627: RuntimeWarning: invalid value encountered in double_scalars\n",
      "  return metrics\n"
     ]
    },
    {
     "name": "stdout",
     "output_type": "stream",
     "text": [
      "Number of clusters: 2\n",
      "Number of clusters: 2\n",
      "Number of clusters: 2\n",
      "Number of clusters: 2\n",
      "Number of clusters: 2\n",
      "Number of clusters: 2\n",
      "Number of clusters: 2\n",
      "Number of clusters: 2\n",
      "Number of clusters: 2\n"
     ]
    }
   ],
   "source": [
    "MCL_metric = k_fold_MCL(human_file='data/homo_preprocess.tsv',\n",
    "                        seed_file='data/seed.txt', metric_func=compute_metrics)"
   ]
  },
  {
   "cell_type": "code",
   "execution_count": null,
   "metadata": {},
   "outputs": [],
   "source": [
    "res = diffusion_heat(path='diffusion_heat/C0003873_old/')\n",
    "diffusion_heat_metric = k_fold_diffusion_heat(res, metric_func=compute_metrics, \n",
    "                                              n=174, disease='C0003873_old')"
   ]
  },
  {
   "cell_type": "markdown",
   "metadata": {},
   "source": [
    "## Extended validation"
   ]
  },
  {
   "cell_type": "code",
   "execution_count": 28,
   "metadata": {},
   "outputs": [],
   "source": [
    "from imported_code.diamond import DIAMOnD"
   ]
  },
  {
   "cell_type": "code",
   "execution_count": 32,
   "metadata": {},
   "outputs": [],
   "source": [
    "kwargs = {\n",
    "    'network_file':'data/processed/PPI.txt', \n",
    "    'seed_file':f'data/processed/seeds_{disease}.txt',\n",
    "    'metrics_file':f'data/results/metrics_ext_diamond_{disease}.json',\n",
    "    'extended_disease_file':'data/all_gene_disease_associations.tsv',\n",
    "    'disease':disease,\n",
    "    'func_args':{\n",
    "        'max_number_of_added_nodes':200,\n",
    "        'alpha':1,\n",
    "        'outfile':'./data/results/kfold_tmp.txt'\n",
    "    }\n",
    "    \n",
    "}\n",
    "\n",
    "metrics = k_fold(DIAMOnD, compute_metrics, k=5, extended_val=True, **kwargs)"
   ]
  },
  {
   "cell_type": "code",
   "execution_count": 33,
   "metadata": {},
   "outputs": [
    {
     "data": {
      "text/plain": [
       "defaultdict(list,\n",
       "            {'precision_at_50': (0.008, 0.0098),\n",
       "             'recall_at_50': (0.01143, 0.014),\n",
       "             'ndcg_at_k_50': (0.01252, 0.01552),\n",
       "             'F1-score_at_50': (0.00941, 0.01153),\n",
       "             'precision_at_17': (0.02353, 0.02882),\n",
       "             'recall_at_17': (0.01143, 0.014),\n",
       "             'ndcg_at_k_17': (0.02002, 0.02482),\n",
       "             'F1-score_at_17': (0.01538, 0.01884),\n",
       "             'precision_at_43': (0.0093, 0.01139),\n",
       "             'recall_at_43': (0.01143, 0.014),\n",
       "             'ndcg_at_k_43': (0.01252, 0.01552),\n",
       "             'F1-score_at_43': (0.01026, 0.01256),\n",
       "             'precision_at_86': (0.0093, 0.01356),\n",
       "             'recall_at_86': (0.02286, 0.03332),\n",
       "             'ndcg_at_k_86': (0.01877, 0.02417),\n",
       "             'F1-score_at_86': (0.01322, 0.01928),\n",
       "             'precision_at_173': (0.00925, 0.00865),\n",
       "             'recall_at_173': (0.04571, 0.04276),\n",
       "             'ndcg_at_k_173': (0.03009, 0.02809),\n",
       "             'F1-score_at_173': (0.01538, 0.01439),\n",
       "             'extended_val': []})"
      ]
     },
     "execution_count": 33,
     "metadata": {},
     "output_type": "execute_result"
    }
   ],
   "source": [
    "metrics"
   ]
  },
  {
   "cell_type": "code",
   "execution_count": 34,
   "metadata": {},
   "outputs": [],
   "source": [
    "kwargs = {\n",
    "    'network_file':'data/processed/PPI.txt', \n",
    "    'seed_file':f'data/processed/seeds_{disease}.txt',\n",
    "    'metrics_file':f'data/results/metrics_ext_diable_{disease}.json',\n",
    "    'extended_disease_file':'data/all_gene_disease_associations.tsv',\n",
    "    'disease':disease,\n",
    "    'func_args':{\n",
    "        'max_number_of_added_nodes':200,\n",
    "        'alpha':1,\n",
    "        'outfile':'./data/results/kfold_tmp.txt'\n",
    "    }\n",
    "    \n",
    "}\n",
    "\n",
    "metrics = k_fold(DiaBLE, compute_metrics, k=5, extended_val=True, **kwargs)"
   ]
  },
  {
   "cell_type": "code",
   "execution_count": 35,
   "metadata": {},
   "outputs": [
    {
     "data": {
      "text/plain": [
       "defaultdict(list,\n",
       "            {'precision_at_50': (0.004, 0.008),\n",
       "             'recall_at_50': (0.00588, 0.01176),\n",
       "             'ndcg_at_k_50': (0.00543, 0.01086),\n",
       "             'F1-score_at_50': (0.00476, 0.00952),\n",
       "             'precision_at_17': (0.01176, 0.02353),\n",
       "             'recall_at_17': (0.00588, 0.01176),\n",
       "             'ndcg_at_k_17': (0.00852, 0.01703),\n",
       "             'F1-score_at_17': (0.00784, 0.01569),\n",
       "             'precision_at_43': (0.00465, 0.0093),\n",
       "             'recall_at_43': (0.00588, 0.01176),\n",
       "             'ndcg_at_k_43': (0.00543, 0.01086),\n",
       "             'F1-score_at_43': (0.00519, 0.01039),\n",
       "             'precision_at_86': (0.00465, 0.0057),\n",
       "             'recall_at_86': (0.0116, 0.01421),\n",
       "             'ndcg_at_k_86': (0.00884, 0.01129),\n",
       "             'F1-score_at_86': (0.00664, 0.00813),\n",
       "             'precision_at_173': (0.00694, 0.00566),\n",
       "             'recall_at_173': (0.03462, 0.02793),\n",
       "             'ndcg_at_k_173': (0.02001, 0.01403),\n",
       "             'F1-score_at_173': (0.01156, 0.00942),\n",
       "             'extended_val': []})"
      ]
     },
     "execution_count": 35,
     "metadata": {},
     "output_type": "execute_result"
    }
   ],
   "source": [
    "metrics"
   ]
  },
  {
   "cell_type": "code",
   "execution_count": 36,
   "metadata": {},
   "outputs": [],
   "source": [
    "kwargs = {\n",
    "    'network_file':'data/processed/PPI.txt', \n",
    "    'seed_file':f'data/processed/seeds_{disease}.txt',\n",
    "    'metrics_file':f'data/results/metrics_ext_r_walk_{disease}.json',\n",
    "    'extended_disease_file':'data/all_gene_disease_associations.tsv',\n",
    "    'disease':disease,\n",
    "    'func_args':{\n",
    "        'r':0.7, \n",
    "        'score_thr':0, \n",
    "        'tol':1e-6, \n",
    "        'sorted_nodes_only':True\n",
    "    }\n",
    "    \n",
    "}\n",
    "\n",
    "metrics = k_fold(random_walk_wr, compute_metrics, k=5, extended_val=True, **kwargs)"
   ]
  },
  {
   "cell_type": "code",
   "execution_count": 37,
   "metadata": {},
   "outputs": [
    {
     "data": {
      "text/plain": [
       "defaultdict(list,\n",
       "            {'precision_at_50': (0.0, 0.0),\n",
       "             'recall_at_50': (0.0, 0.0),\n",
       "             'ndcg_at_k_50': (0.0, 0.0),\n",
       "             'F1-score_at_50': (0.0, 0.0),\n",
       "             'precision_at_17': (0.0, 0.0),\n",
       "             'recall_at_17': (0.0, 0.0),\n",
       "             'ndcg_at_k_17': (0.0, 0.0),\n",
       "             'F1-score_at_17': (0.0, 0.0),\n",
       "             'precision_at_43': (0.0, 0.0),\n",
       "             'recall_at_43': (0.0, 0.0),\n",
       "             'ndcg_at_k_43': (0.0, 0.0),\n",
       "             'F1-score_at_43': (0.0, 0.0),\n",
       "             'precision_at_86': (0.0, 0.0),\n",
       "             'recall_at_86': (0.0, 0.0),\n",
       "             'ndcg_at_k_86': (0.0, 0.0),\n",
       "             'F1-score_at_86': (0.0, 0.0),\n",
       "             'precision_at_173': (0.0, 0.0),\n",
       "             'recall_at_173': (0.0, 0.0),\n",
       "             'ndcg_at_k_173': (0.0, 0.0),\n",
       "             'F1-score_at_173': (0.0, 0.0),\n",
       "             'extended_val': []})"
      ]
     },
     "execution_count": 37,
     "metadata": {},
     "output_type": "execute_result"
    }
   ],
   "source": [
    "metrics"
   ]
  }
 ],
 "metadata": {
  "interpreter": {
   "hash": "e7370f93d1d0cde622a1f8e1c04877d8463912d04d973331ad4851f04de6915a"
  },
  "kernelspec": {
   "display_name": "data_science_general",
   "language": "python",
   "name": "python3"
  },
  "language_info": {
   "codemirror_mode": {
    "name": "ipython",
    "version": 3
   },
   "file_extension": ".py",
   "mimetype": "text/x-python",
   "name": "python",
   "nbconvert_exporter": "python",
   "pygments_lexer": "ipython3",
   "version": "3.9.9"
  }
 },
 "nbformat": 4,
 "nbformat_minor": 4
}
