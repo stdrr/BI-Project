{
 "cells": [
  {
   "cell_type": "code",
   "execution_count": 2,
   "metadata": {},
   "outputs": [],
   "source": [
    "%load_ext autoreload\n",
    "%autoreload 2"
   ]
  },
  {
   "cell_type": "code",
   "execution_count": 3,
   "metadata": {},
   "outputs": [],
   "source": [
    "import os\n",
    "import sys\n",
    "import matplotlib.pyplot as plt\n",
    "\n",
    "module_path = os.path.abspath(os.path.join('..\\..'))\n",
    "if module_path not in sys.path:\n",
    "    sys.path.insert(0, module_path)"
   ]
  },
  {
   "cell_type": "code",
   "execution_count": 4,
   "metadata": {},
   "outputs": [],
   "source": [
    "from funcs import *"
   ]
  },
  {
   "cell_type": "markdown",
   "metadata": {},
   "source": [
    "## Read Data + Save"
   ]
  },
  {
   "cell_type": "code",
   "execution_count": 4,
   "metadata": {},
   "outputs": [],
   "source": [
    "human_data(file='data/BIOGRID-ORGANISM-Homo_sapiens-4.4.204.tab3.txt',\n",
    "           save_file='data/homo_preprocess.tsv')"
   ]
  },
  {
   "cell_type": "code",
   "execution_count": 5,
   "metadata": {},
   "outputs": [],
   "source": [
    "disease_data(file='data/curated_gene_disease_associations.tsv',\n",
    "             disease_id='C0003873')"
   ]
  },
  {
   "cell_type": "markdown",
   "metadata": {},
   "source": [
    "## Data Overview"
   ]
  },
  {
   "cell_type": "code",
   "execution_count": 6,
   "metadata": {},
   "outputs": [
    {
     "name": "stdout",
     "output_type": "stream",
     "text": [
      "Number of genes associated with the desease: 174\n",
      "Classes of the desease: ['C17;C05;C20']\n",
      "Number of genes present in the interactome: 173\n",
      "Largest connected component: 83\n"
     ]
    }
   ],
   "source": [
    "data_overview(human_file='data/homo_preprocess.tsv',\n",
    "              disease_file='data/diseaseC0003873.tsv')"
   ]
  },
  {
   "cell_type": "markdown",
   "metadata": {},
   "source": [
    "## Algorithms"
   ]
  },
  {
   "cell_type": "code",
   "execution_count": null,
   "metadata": {},
   "outputs": [],
   "source": [
    "MCL(human_file='data/homo_preprocess.tsv', start=20, end=27)"
   ]
  },
  {
   "cell_type": "code",
   "execution_count": 15,
   "metadata": {},
   "outputs": [
    {
     "name": "stdout",
     "output_type": "stream",
     "text": [
      "DIAMOnD(): ignoring 1 of 174 seed genes that are not in the network\n",
      "\n",
      " results have been saved to 'data/diamond_results.txt' \n",
      "\n"
     ]
    }
   ],
   "source": [
    "DIAMOND(network_file='data/PPI.txt', seed_file='data/seed_genes.txt', n=200, alpha=1, out_file='data/diamond_results.txt')"
   ]
  },
  {
   "cell_type": "code",
   "execution_count": 61,
   "metadata": {},
   "outputs": [
    {
     "name": "stdout",
     "output_type": "stream",
     "text": [
      "DiaBLE(): ignoring 1 of 174 seed genes that are not in the network\n",
      "\n",
      " results have been saved to 'data/diable_results.txt' \n",
      "\n"
     ]
    }
   ],
   "source": [
    "DIABLE(network_file='data/PPI.txt', seed_file='data/seed_genes.txt', n=200, alpha=1, out_file='data/diable_results.txt')"
   ]
  },
  {
   "cell_type": "code",
   "execution_count": 91,
   "metadata": {},
   "outputs": [
    {
     "name": "stdout",
     "output_type": "stream",
     "text": [
      "RANDOM_WALK_WITH_RESTART(): ignoring 1 of 174 seed genes that are not in the network\n",
      "\n",
      " results have been saved to 'data/random_walk_wr_results.txt' \n",
      "\n"
     ]
    }
   ],
   "source": [
    "RANDOM_WALK_WITH_RESTART(network_file='data/PPI.txt', seed_file='data/seed_genes.txt', r=0.1, score_thr=0, tol=1e-6)"
   ]
  },
  {
   "cell_type": "markdown",
   "metadata": {},
   "source": [
    "## 10-fold cross validation"
   ]
  },
  {
   "cell_type": "code",
   "execution_count": 33,
   "metadata": {},
   "outputs": [],
   "source": [
    "from imported_code.diamond import DIAMOnD"
   ]
  },
  {
   "cell_type": "code",
   "execution_count": 43,
   "metadata": {},
   "outputs": [
    {
     "name": "stderr",
     "output_type": "stream",
     "text": [
      "/home/stefano/Documents/University/Master/Second_year/BI/homeworks/BI-Project/funcs.py:491: RuntimeWarning: invalid value encountered in double_scalars\n",
      "  return metrics\n"
     ]
    }
   ],
   "source": [
    "gt = np.array([34, 14, 12, 41, 23, 2])\n",
    "pred = np.array(np.arange(1, 100))\n",
    "n = 27\n",
    "\n",
    "kwargs = {\n",
    "    'network_file':'data/PPI.txt', \n",
    "    'seed_file':'data/seed_genes.txt',\n",
    "    'func_args':{\n",
    "        'max_number_of_added_nodes':180,\n",
    "        'alpha':1,\n",
    "        'outfile':'./data/test_kfold_diamond.txt'\n",
    "    }\n",
    "    \n",
    "}\n",
    "\n",
    "metrics = k_fold(DIAMOnD, compute_metrics, 3, **kwargs)"
   ]
  },
  {
   "cell_type": "code",
   "execution_count": 44,
   "metadata": {},
   "outputs": [
    {
     "data": {
      "text/plain": [
       "defaultdict(list,\n",
       "            {'precision_at_50': (0.02, 0.016329931618554522),\n",
       "             'recall_at_50': (0.017241379310344827, 0.014077527257374586),\n",
       "             'ndcg_at_k_50': (0.020747046136719956, 0.015646240006390748),\n",
       "             'F1-score_at_50': (0.01851851851851852, 0.015120307054217151),\n",
       "             'precision_at_17': (0.0392156862745098, 0.0277296776935901),\n",
       "             'recall_at_17': (0.011494252873563218, 0.008127664151569512),\n",
       "             'ndcg_at_k_17': (0.03175479080952405, 0.022518169531146874),\n",
       "             'F1-score_at_17': (0.017777777777777778, 0.01257078722109418),\n",
       "             'precision_at_43': (0.023255813953488372, 0.018988292579714558),\n",
       "             'recall_at_43': (0.017241379310344827, 0.014077527257374586),\n",
       "             'ndcg_at_k_43': (0.022981040787214534, 0.01733099147627673),\n",
       "             'F1-score_at_43': (0.019801980198019802, 0.016168249127281705),\n",
       "             'precision_at_86': (0.023089332526719093, 0.00805731519419522),\n",
       "             'recall_at_86': (0.023089332526719093, 0.00805731519419522),\n",
       "             'ndcg_at_k_86': (0.022466912277791212, 0.009372253716189627),\n",
       "             'F1-score_at_86': (0.023089332526719093, 0.00805731519419522),\n",
       "             'precision_at_173': (0.04043153861665658, 0.007988892030465943),\n",
       "             'recall_at_173': (0.04043153861665658, 0.007988892030465943),\n",
       "             'ndcg_at_k_173': (0.03286675801917237, 0.009235212971991614),\n",
       "             'F1-score_at_173': (0.04043153861665658, 0.007988892030465943)})"
      ]
     },
     "execution_count": 44,
     "metadata": {},
     "output_type": "execute_result"
    }
   ],
   "source": [
    "metrics"
   ]
  },
  {
   "cell_type": "markdown",
   "metadata": {},
   "source": [
    "## Extended validation"
   ]
  },
  {
   "cell_type": "code",
   "execution_count": null,
   "metadata": {},
   "outputs": [],
   "source": []
  }
 ],
 "metadata": {
  "interpreter": {
   "hash": "e7370f93d1d0cde622a1f8e1c04877d8463912d04d973331ad4851f04de6915a"
  },
  "kernelspec": {
   "display_name": "data_science_general",
   "language": "python",
   "name": "python3"
  },
  "language_info": {
   "codemirror_mode": {
    "name": "ipython",
    "version": 3
   },
   "file_extension": ".py",
   "mimetype": "text/x-python",
   "name": "python",
   "nbconvert_exporter": "python",
   "pygments_lexer": "ipython3",
   "version": "3.9.9"
  }
 },
 "nbformat": 4,
 "nbformat_minor": 4
}
