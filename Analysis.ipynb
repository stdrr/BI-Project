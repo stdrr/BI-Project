{
 "cells": [
  {
   "cell_type": "code",
   "execution_count": 13,
   "metadata": {},
   "outputs": [
    {
     "name": "stdout",
     "output_type": "stream",
     "text": [
      "The autoreload extension is already loaded. To reload it, use:\n",
      "  %reload_ext autoreload\n"
     ]
    }
   ],
   "source": [
    "%load_ext autoreload\n",
    "%autoreload 2"
   ]
  },
  {
   "cell_type": "code",
   "execution_count": 14,
   "metadata": {},
   "outputs": [],
   "source": [
    "import os\n",
    "import sys\n",
    "import matplotlib.pyplot as plt\n",
    "\n",
    "module_path = os.path.abspath(os.path.join('..\\..'))\n",
    "if module_path not in sys.path:\n",
    "    sys.path.insert(0, module_path)"
   ]
  },
  {
   "cell_type": "code",
   "execution_count": 15,
   "metadata": {},
   "outputs": [],
   "source": [
    "from funcs import *"
   ]
  },
  {
   "cell_type": "code",
   "execution_count": 81,
   "metadata": {},
   "outputs": [
    {
     "name": "stdout",
     "output_type": "stream",
     "text": [
      "Official Symbol Interactor B\n",
      "MEMO1    2\n",
      "RNR1     2\n",
      "Name: Entrez Gene Interactor B, dtype: int64\n"
     ]
    }
   ],
   "source": [
    "check_issue(file='data/BIOGRID-ORGANISM-Homo_sapiens-4.4.204.tab3.txt')"
   ]
  },
  {
   "cell_type": "code",
   "execution_count": 17,
   "metadata": {},
   "outputs": [],
   "source": [
    "diseases = ['C0003873', 'C0019193', \n",
    "            'C0033578', 'C0919267', \n",
    "            'C0917816']"
   ]
  },
  {
   "cell_type": "markdown",
   "metadata": {},
   "source": [
    "## Read Data + Save"
   ]
  },
  {
   "cell_type": "code",
   "execution_count": 82,
   "metadata": {},
   "outputs": [
    {
     "name": "stdout",
     "output_type": "stream",
     "text": [
      "Nodes:  19618\n",
      "Edges:  665061\n"
     ]
    }
   ],
   "source": [
    "human_data(file='data/BIOGRID-ORGANISM-Homo_sapiens-4.4.204.tab3.txt',\n",
    "           save_file='data/homo_preprocess.tsv')"
   ]
  },
  {
   "cell_type": "code",
   "execution_count": 20,
   "metadata": {},
   "outputs": [],
   "source": [
    "for i in range(len(diseases)):\n",
    "    disease_data(file='data/curated_gene_disease_associations.tsv',\n",
    "                disease_id=diseases[i])"
   ]
  },
  {
   "cell_type": "markdown",
   "metadata": {},
   "source": [
    "## Data Overview"
   ]
  },
  {
   "cell_type": "code",
   "execution_count": 21,
   "metadata": {},
   "outputs": [
    {
     "name": "stdout",
     "output_type": "stream",
     "text": [
      "C0003873\n",
      "Number of genes associated with the disease: 174\n",
      "Classes of the desease: ['C17;C05;C20']\n",
      "Number of genes present in the interactome: 173\n",
      "Largest connected component: 83\n",
      "===================\n",
      "C0019193\n",
      "Number of genes associated with the disease: 404\n",
      "Classes of the desease: ['C06;C25']\n",
      "Number of genes present in the interactome: 321\n",
      "Largest connected component: 230\n",
      "===================\n",
      "C0033578\n",
      "Number of genes associated with the disease: 616\n",
      "Classes of the desease: ['C04;C12']\n",
      "Number of genes present in the interactome: 613\n",
      "Largest connected component: 550\n",
      "===================\n",
      "C0919267\n",
      "Number of genes associated with the disease: 134\n",
      "Classes of the desease: ['C04;C13;C19']\n",
      "Number of genes present in the interactome: 133\n",
      "Largest connected component: 111\n",
      "===================\n",
      "C0917816\n",
      "Number of genes associated with the disease: 139\n",
      "Classes of the desease: ['C23;C10;F03;F01']\n",
      "Number of genes present in the interactome: 139\n",
      "Largest connected component: 54\n",
      "===================\n"
     ]
    }
   ],
   "source": [
    "for i in diseases:\n",
    "    print(i)\n",
    "    data_overview(human_file='data/homo_preprocess.tsv',\n",
    "                disease_file='data/disease'+i+'.tsv')\n",
    "    print('===================')"
   ]
  },
  {
   "cell_type": "code",
   "execution_count": 16,
   "metadata": {},
   "outputs": [],
   "source": [
    "for i in diseases:\n",
    "    split_files_diffusion_heat(seeds='data/seed'+i+'.txt', disease=i, k=5)"
   ]
  },
  {
   "cell_type": "code",
   "execution_count": 90,
   "metadata": {},
   "outputs": [],
   "source": [
    "tsv_to_txt(tsv_file='data/homo_preprocess.tsv', txt_file='data/homo_preprocess_new.txt')"
   ]
  },
  {
   "cell_type": "markdown",
   "metadata": {},
   "source": [
    "## Algorithms"
   ]
  },
  {
   "cell_type": "code",
   "execution_count": 6,
   "metadata": {},
   "outputs": [],
   "source": [
    "MCL_hyper('data/homo_preprocess.tsv', start=18, end=23)"
   ]
  },
  {
   "cell_type": "code",
   "execution_count": 15,
   "metadata": {},
   "outputs": [
    {
     "name": "stdout",
     "output_type": "stream",
     "text": [
      "DIAMOnD(): ignoring 1 of 174 seed genes that are not in the network\n",
      "\n",
      " results have been saved to 'data/diamond_results.txt' \n",
      "\n"
     ]
    }
   ],
   "source": [
    "DIAMOND(network_file='data/PPI.txt', seed_file='data/seed_genes.txt', n=200, alpha=1, out_file='data/diamond_results.txt')"
   ]
  },
  {
   "cell_type": "code",
   "execution_count": 61,
   "metadata": {},
   "outputs": [
    {
     "name": "stdout",
     "output_type": "stream",
     "text": [
      "DiaBLE(): ignoring 1 of 174 seed genes that are not in the network\n",
      "\n",
      " results have been saved to 'data/diable_results.txt' \n",
      "\n"
     ]
    }
   ],
   "source": [
    "DIABLE(network_file='data/PPI.txt', seed_file='data/seed_genes.txt', n=200, alpha=1, out_file='data/diable_results.txt')"
   ]
  },
  {
   "cell_type": "code",
   "execution_count": 91,
   "metadata": {},
   "outputs": [
    {
     "name": "stdout",
     "output_type": "stream",
     "text": [
      "RANDOM_WALK_WITH_RESTART(): ignoring 1 of 174 seed genes that are not in the network\n",
      "\n",
      " results have been saved to 'data/random_walk_wr_results.txt' \n",
      "\n"
     ]
    }
   ],
   "source": [
    "RANDOM_WALK_WITH_RESTART(network_file='data/PPI.txt', seed_file='data/seed_genes.txt', r=0.1, score_thr=0, tol=1e-6)"
   ]
  },
  {
   "cell_type": "markdown",
   "metadata": {},
   "source": [
    "## 10-fold cross validation"
   ]
  },
  {
   "cell_type": "code",
   "execution_count": 33,
   "metadata": {},
   "outputs": [],
   "source": [
    "from imported_code.diamond import DIAMOnD"
   ]
  },
  {
   "cell_type": "code",
   "execution_count": 43,
   "metadata": {},
   "outputs": [
    {
     "name": "stderr",
     "output_type": "stream",
     "text": [
      "/home/stefano/Documents/University/Master/Second_year/BI/homeworks/BI-Project/funcs.py:491: RuntimeWarning: invalid value encountered in double_scalars\n",
      "  return metrics\n"
     ]
    }
   ],
   "source": [
    "gt = np.array([34, 14, 12, 41, 23, 2])\n",
    "pred = np.array(np.arange(1, 100))\n",
    "n = 27\n",
    "\n",
    "kwargs = {\n",
    "    'network_file':'data/PPI.txt', \n",
    "    'seed_file':'data/seed_genes.txt',\n",
    "    'func_args':{\n",
    "        'max_number_of_added_nodes':180,\n",
    "        'alpha':1,\n",
    "        'outfile':'./data/test_kfold_diamond.txt'\n",
    "    }\n",
    "    \n",
    "}\n",
    "\n",
    "metrics = k_fold(DIAMOnD, compute_metrics, 3, **kwargs)"
   ]
  },
  {
   "cell_type": "code",
   "execution_count": 44,
   "metadata": {},
   "outputs": [
    {
     "data": {
      "text/plain": [
       "defaultdict(list,\n",
       "            {'precision_at_50': (0.02, 0.016329931618554522),\n",
       "             'recall_at_50': (0.017241379310344827, 0.014077527257374586),\n",
       "             'ndcg_at_k_50': (0.020747046136719956, 0.015646240006390748),\n",
       "             'F1-score_at_50': (0.01851851851851852, 0.015120307054217151),\n",
       "             'precision_at_17': (0.0392156862745098, 0.0277296776935901),\n",
       "             'recall_at_17': (0.011494252873563218, 0.008127664151569512),\n",
       "             'ndcg_at_k_17': (0.03175479080952405, 0.022518169531146874),\n",
       "             'F1-score_at_17': (0.017777777777777778, 0.01257078722109418),\n",
       "             'precision_at_43': (0.023255813953488372, 0.018988292579714558),\n",
       "             'recall_at_43': (0.017241379310344827, 0.014077527257374586),\n",
       "             'ndcg_at_k_43': (0.022981040787214534, 0.01733099147627673),\n",
       "             'F1-score_at_43': (0.019801980198019802, 0.016168249127281705),\n",
       "             'precision_at_86': (0.023089332526719093, 0.00805731519419522),\n",
       "             'recall_at_86': (0.023089332526719093, 0.00805731519419522),\n",
       "             'ndcg_at_k_86': (0.022466912277791212, 0.009372253716189627),\n",
       "             'F1-score_at_86': (0.023089332526719093, 0.00805731519419522),\n",
       "             'precision_at_173': (0.04043153861665658, 0.007988892030465943),\n",
       "             'recall_at_173': (0.04043153861665658, 0.007988892030465943),\n",
       "             'ndcg_at_k_173': (0.03286675801917237, 0.009235212971991614),\n",
       "             'F1-score_at_173': (0.04043153861665658, 0.007988892030465943)})"
      ]
     },
     "execution_count": 44,
     "metadata": {},
     "output_type": "execute_result"
    }
   ],
   "source": [
    "metrics"
   ]
  },
  {
   "cell_type": "code",
   "execution_count": 43,
   "metadata": {},
   "outputs": [
    {
     "name": "stdout",
     "output_type": "stream",
     "text": [
      "Number of clusters: 2\n"
     ]
    },
    {
     "name": "stderr",
     "output_type": "stream",
     "text": [
      "c:\\Users\\juanm\\Documents\\Master\\Data Science\\3_Semester\\Bioinformatics\\Project\\BI-Project\\funcs.py:627: RuntimeWarning: invalid value encountered in double_scalars\n",
      "  return metrics\n"
     ]
    },
    {
     "name": "stdout",
     "output_type": "stream",
     "text": [
      "Number of clusters: 2\n",
      "Number of clusters: 2\n",
      "Number of clusters: 2\n",
      "Number of clusters: 2\n",
      "Number of clusters: 2\n",
      "Number of clusters: 2\n",
      "Number of clusters: 2\n",
      "Number of clusters: 2\n",
      "Number of clusters: 2\n"
     ]
    }
   ],
   "source": [
    "MCL_metric = k_fold_MCL(human_file='data/homo_preprocess.tsv',\n",
    "                        seed_file='data/seed.txt', metric_func=compute_metrics)"
   ]
  },
  {
   "cell_type": "code",
   "execution_count": null,
   "metadata": {},
   "outputs": [],
   "source": [
    "res = diffusion_heat(path='diffusion_heat/C0003873/')\n",
    "diffusion_heat_metric = k_fold_diffusion_heat(res, metric_func=compute_metrics, \n",
    "                                              n=174, disease='C0003873')"
   ]
  },
  {
   "cell_type": "markdown",
   "metadata": {},
   "source": [
    "## Extended validation"
   ]
  },
  {
   "cell_type": "code",
   "execution_count": null,
   "metadata": {},
   "outputs": [],
   "source": []
  }
 ],
 "metadata": {
  "interpreter": {
   "hash": "e7370f93d1d0cde622a1f8e1c04877d8463912d04d973331ad4851f04de6915a"
  },
  "kernelspec": {
   "display_name": "data_science_general",
   "language": "python",
   "name": "python3"
  },
  "language_info": {
   "codemirror_mode": {
    "name": "ipython",
    "version": 3
   },
   "file_extension": ".py",
   "mimetype": "text/x-python",
   "name": "python",
   "nbconvert_exporter": "python",
   "pygments_lexer": "ipython3",
   "version": "3.7.9"
  }
 },
 "nbformat": 4,
 "nbformat_minor": 4
}
