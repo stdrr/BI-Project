{
 "cells": [
  {
   "cell_type": "code",
   "execution_count": 2,
   "metadata": {},
   "outputs": [],
   "source": [
    "import pandas as pd"
   ]
  },
  {
   "cell_type": "code",
   "execution_count": 30,
   "metadata": {},
   "outputs": [],
   "source": [
    "with open('data/seed.txt', 'r') as f:\n",
    "    myNames = [line.strip() for line in f]"
   ]
  },
  {
   "cell_type": "code",
   "execution_count": 57,
   "metadata": {},
   "outputs": [],
   "source": [
    "for i in range(10):\n",
    "    v = myNames[round((len(myNames)/10)*(i)):round((len(myNames)/10)*(i+1))]\n",
    "    t = set(myNames).difference(myNames[round((len(myNames)/10)*(i)):round((len(myNames)/10)*(i+1))])\n",
    "    txt_file_tr = open(\"data/seed\"+str(i+1)+\"tr.txt\", \"w\")\n",
    "  \n",
    "    # write data in txt file line by line\n",
    "    for row in t:\n",
    "        joined_string = str(row)\n",
    "        txt_file_tr.writelines(joined_string+'\\n')\n",
    "\n",
    "    # close files\n",
    "    txt_file_tr.close()\n",
    "    \n",
    "    txt_file_val = open(\"data/seed\"+str(i+1)+\"val.txt\", \"w\")\n",
    "  \n",
    "    # write data in txt file line by line\n",
    "    for row in v:\n",
    "        joined_string = str(row)\n",
    "        txt_file_val.writelines(joined_string+'\\n')\n",
    "\n",
    "    # close files\n",
    "    txt_file_val.close()"
   ]
  },
  {
   "cell_type": "code",
   "execution_count": 58,
   "metadata": {},
   "outputs": [
    {
     "name": "stdout",
     "output_type": "stream",
     "text": [
      "Collecting ndex2"
     ]
    },
    {
     "name": "stderr",
     "output_type": "stream",
     "text": [
      "WARNING: Keyring is skipped due to an exception: entry_points() got an unexpected keyword argument 'group'\n"
     ]
    },
    {
     "name": "stdout",
     "output_type": "stream",
     "text": [
      "\n",
      "  Downloading ndex2-3.4.0-py2.py3-none-any.whl (53 kB)\n",
      "Requirement already satisfied: networkx in c:\\users\\juanm\\anaconda3\\envs\\data_science_general\\lib\\site-packages (from ndex2) (2.5)\n",
      "Requirement already satisfied: numpy in c:\\users\\juanm\\anaconda3\\envs\\data_science_general\\lib\\site-packages (from ndex2) (1.19.1)\n",
      "Requirement already satisfied: requests-toolbelt in c:\\users\\juanm\\anaconda3\\envs\\data_science_general\\lib\\site-packages (from ndex2) (0.9.1)\n",
      "Requirement already satisfied: pandas in c:\\users\\juanm\\anaconda3\\envs\\data_science_general\\lib\\site-packages (from ndex2) (1.1.3)\n",
      "Collecting ijson\n",
      "  Downloading ijson-3.1.4-cp37-cp37m-win_amd64.whl (48 kB)\n",
      "Requirement already satisfied: requests in c:\\users\\juanm\\anaconda3\\envs\\data_science_general\\lib\\site-packages (from ndex2) (2.24.0)\n",
      "Requirement already satisfied: urllib3>=1.16 in c:\\users\\juanm\\anaconda3\\envs\\data_science_general\\lib\\site-packages (from ndex2) (1.25.11)\n",
      "Requirement already satisfied: six in c:\\users\\juanm\\anaconda3\\envs\\data_science_general\\lib\\site-packages (from ndex2) (1.15.0)\n",
      "Requirement already satisfied: decorator>=4.3.0 in c:\\users\\juanm\\anaconda3\\envs\\data_science_general\\lib\\site-packages (from networkx->ndex2) (4.4.2)\n",
      "Requirement already satisfied: pytz>=2017.2 in c:\\users\\juanm\\anaconda3\\envs\\data_science_general\\lib\\site-packages (from pandas->ndex2) (2020.1)\n",
      "Requirement already satisfied: python-dateutil>=2.7.3 in c:\\users\\juanm\\anaconda3\\envs\\data_science_general\\lib\\site-packages (from pandas->ndex2) (2.8.1)\n",
      "Requirement already satisfied: chardet<4,>=3.0.2 in c:\\users\\juanm\\anaconda3\\envs\\data_science_general\\lib\\site-packages (from requests->ndex2) (3.0.4)\n",
      "Requirement already satisfied: certifi>=2017.4.17 in c:\\users\\juanm\\anaconda3\\envs\\data_science_general\\lib\\site-packages (from requests->ndex2) (2021.10.8)\n",
      "Requirement already satisfied: idna<3,>=2.5 in c:\\users\\juanm\\anaconda3\\envs\\data_science_general\\lib\\site-packages (from requests->ndex2) (2.10)\n",
      "Installing collected packages: ijson, ndex2\n",
      "Successfully installed ijson-3.1.4 ndex2-3.4.0\n"
     ]
    }
   ],
   "source": [
    "! pip install ndex2"
   ]
  },
  {
   "cell_type": "code",
   "execution_count": 59,
   "metadata": {},
   "outputs": [],
   "source": [
    "import ndex2\n",
    "import requests\n",
    "import json\n",
    "import base64"
   ]
  },
  {
   "cell_type": "code",
   "execution_count": 60,
   "metadata": {},
   "outputs": [],
   "source": [
    "nice_cx_net = ndex2.create_nice_cx_from_server(server='http://public.ndexbio.org',\n",
    "                                               uuid='c0e70804-d848-11e6-86b1-0ac135e8bacf')"
   ]
  },
  {
   "cell_type": "code",
   "execution_count": null,
   "metadata": {},
   "outputs": [],
   "source": []
  }
 ],
 "metadata": {
  "kernelspec": {
   "display_name": "data_science_general",
   "language": "python",
   "name": "data_science_general"
  },
  "language_info": {
   "codemirror_mode": {
    "name": "ipython",
    "version": 3
   },
   "file_extension": ".py",
   "mimetype": "text/x-python",
   "name": "python",
   "nbconvert_exporter": "python",
   "pygments_lexer": "ipython3",
   "version": "3.7.9"
  }
 },
 "nbformat": 4,
 "nbformat_minor": 4
}
